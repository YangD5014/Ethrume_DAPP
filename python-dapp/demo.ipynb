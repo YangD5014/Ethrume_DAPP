{
 "cells": [
  {
   "cell_type": "code",
   "execution_count": 3,
   "metadata": {},
   "outputs": [
    {
     "name": "stdout",
     "output_type": "stream",
     "text": [
      "True\n",
      "目前区块数目:5511334\n",
      "账户余额:931285059168596770\n",
      "AttributeDict({'blockHash': HexBytes('0xfc39269fc19ddba78b5e900f786b71ba3f90c51621082c13f533459ae759f351'), 'blockNumber': 5510376, 'hash': HexBytes('0xae8ecbc77caee8d8e3bade1660a73389eae5a8b941b968212dde30b565eb8297'), 'yParity': 0, 'accessList': [], 'transactionIndex': 51, 'type': 2, 'nonce': 0, 'input': HexBytes('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'), 'r': HexBytes('0xf6f1b96e6ccc06700351afae7600e7a5d08f33c3095150199cb12de1f061aab1'), 's': HexBytes('0x6e793679e62ded0859e19df4488f40b65aa45fc8b5ca8b38c08dedc0e3086153'), 'chainId': 11155111, 'v': 0, 'gas': 328637, 'maxPriorityFeePerGas': 1500000000, 'from': '0xE07E6b29F2fA43fc51d2c16FA68AA5353E8680AE', 'to': None, 'maxFeePerGas': 246031808552, 'value': 0, 'gasPrice': 211501521530})\n"
     ]
    }
   ],
   "source": [
    "# main.py\n",
    "from web3 import Web3\n",
    "\n",
    "# Setup\n",
    "alchemy_url = \"https://eth-sepolia.g.alchemy.com/v2/hpI8_BGiHaN6VGeRdMy_D9FKc3fmicEM\"\n",
    "w3 = Web3(Web3.HTTPProvider(alchemy_url))\n",
    "\n",
    "# Print if web3 is successfully connected\n",
    "print(w3.is_connected())\n",
    "\n",
    "# Get the latest block number\n",
    "latest_block = w3.eth.block_number\n",
    "print(f'目前区块数目:{latest_block}')\n",
    "\n",
    "# Get the balance of an account\n",
    "balance = w3.eth.get_balance('0xE07E6b29F2fA43fc51d2c16FA68AA5353E8680AE')\n",
    "print(f'账户余额:{balance}')\n",
    "\n",
    "# Get the information of a transaction\n",
    "tx = w3.eth.get_transaction('0xae8ecbc77caee8d8e3bade1660a73389eae5a8b941b968212dde30b565eb8297')\n",
    "print(tx)"
   ]
  },
  {
   "cell_type": "code",
   "execution_count": 4,
   "metadata": {},
   "outputs": [],
   "source": [
    "# 你的合约地址\n",
    "contract_address = \"0x9e492213b8e77b465c4d3f870c83c6d893df098c\"\n",
    "lower_case_address = \"0x9e492213b8e77b465c4d3f870c83c6d893df098c\"\n",
    "checksum_address = Web3.to_checksum_address(lower_case_address)\\\n",
    "    \n",
    "# 你的合约ABI\n",
    "contract_abi = [{\"inputs\":[],\"name\":\"getBalance\",\"outputs\":[{\"internalType\":\"uint256\",\"name\":\"balance\",\"type\":\"uint256\"}],\"stateMutability\":\"view\",\"type\":\"function\"},{\"inputs\":[],\"name\":\"getUserAddress\",\"outputs\":[],\"stateMutability\":\"nonpayable\",\"type\":\"function\"},{\"inputs\":[],\"name\":\"getinfo\",\"outputs\":[{\"internalType\":\"string\",\"name\":\"\",\"type\":\"string\"}],\"stateMutability\":\"view\",\"type\":\"function\"},{\"inputs\":[],\"name\":\"message\",\"outputs\":[{\"internalType\":\"string\",\"name\":\"\",\"type\":\"string\"}],\"stateMutability\":\"view\",\"type\":\"function\"},{\"inputs\":[],\"name\":\"user\",\"outputs\":[{\"internalType\":\"address\",\"name\":\"\",\"type\":\"address\"}],\"stateMutability\":\"view\",\"type\":\"function\"}]\n",
    "\n",
    "# 创建合约对象\n",
    "contract = w3.eth.contract(address=checksum_address, abi=contract_abi)"
   ]
  },
  {
   "cell_type": "code",
   "execution_count": 5,
   "metadata": {},
   "outputs": [
    {
     "name": "stdout",
     "output_type": "stream",
     "text": [
      "Message from contract: hello world\n"
     ]
    }
   ],
   "source": [
    "# 获取合约状态变量message的值\n",
    "message = contract.functions.message().call()\n",
    "print(f\"Message from contract: {message}\")"
   ]
  },
  {
   "cell_type": "code",
   "execution_count": 6,
   "metadata": {},
   "outputs": [
    {
     "name": "stdout",
     "output_type": "stream",
     "text": [
      "User address from contract: 0x0000000000000000000000000000000000000000\n"
     ]
    }
   ],
   "source": [
    "user_address = contract.functions.user().call()\n",
    "print(f\"User address from contract: {user_address}\")"
   ]
  },
  {
   "cell_type": "code",
   "execution_count": 7,
   "metadata": {},
   "outputs": [
    {
     "name": "stdout",
     "output_type": "stream",
     "text": [
      "Info from contract: hello world\n"
     ]
    }
   ],
   "source": [
    "info = contract.functions.getinfo().call()\n",
    "print(f\"Info from contract: {info}\")"
   ]
  },
  {
   "cell_type": "code",
   "execution_count": 8,
   "metadata": {},
   "outputs": [
    {
     "name": "stdout",
     "output_type": "stream",
     "text": [
      "Account: 0xE07E6b29F2fA43fc51d2c16FA68AA5353E8680AE\n"
     ]
    }
   ],
   "source": [
    "from eth_account import Account\n",
    "\n",
    "# 创建账户对象\n",
    "your_account = Account.from_key('0x599925605f99ed15b3cff79af6b4963fbbfda7b07b57a1b9fdeaadac45d03bf4')\n",
    "account_address = your_account.address\n",
    "print(f'Account: {account_address}')"
   ]
  },
  {
   "cell_type": "code",
   "execution_count": null,
   "metadata": {},
   "outputs": [],
   "source": [
    "accounts = w3.eth.accounts\n",
    "print(accounts)"
   ]
  },
  {
   "cell_type": "code",
   "execution_count": 11,
   "metadata": {},
   "outputs": [
    {
     "name": "stdout",
     "output_type": "stream",
     "text": [
      "Account balance: 0.93128505916859677 ETH\n"
     ]
    }
   ],
   "source": [
    "balance = w3.eth.get_balance(your_account.address)\n",
    "ether_balance = w3.from_wei(balance, 'ether')\n",
    "print(f\"Account balance: {ether_balance} ETH\")"
   ]
  },
  {
   "cell_type": "code",
   "execution_count": 12,
   "metadata": {},
   "outputs": [],
   "source": [
    "import tkinter as tk"
   ]
  },
  {
   "cell_type": "code",
   "execution_count": 15,
   "metadata": {},
   "outputs": [
    {
     "ename": "TclError",
     "evalue": "no display name and no $DISPLAY environment variable",
     "output_type": "error",
     "traceback": [
      "\u001b[0;31m---------------------------------------------------------------------------\u001b[0m",
      "\u001b[0;31mTclError\u001b[0m                                  Traceback (most recent call last)",
      "Cell \u001b[0;32mIn[15], line 1\u001b[0m\n\u001b[0;32m----> 1\u001b[0m root \u001b[38;5;241m=\u001b[39m \u001b[43mtk\u001b[49m\u001b[38;5;241;43m.\u001b[39;49m\u001b[43mTk\u001b[49m\u001b[43m(\u001b[49m\u001b[43m)\u001b[49m\n\u001b[1;32m      2\u001b[0m root\u001b[38;5;241m.\u001b[39mtitle(\u001b[38;5;124m\"\u001b[39m\u001b[38;5;124mMy GUI\u001b[39m\u001b[38;5;124m\"\u001b[39m)\n\u001b[1;32m      4\u001b[0m label \u001b[38;5;241m=\u001b[39m tk\u001b[38;5;241m.\u001b[39mLabel(root, text\u001b[38;5;241m=\u001b[39m\u001b[38;5;124m\"\u001b[39m\u001b[38;5;124mHello World!\u001b[39m\u001b[38;5;124m\"\u001b[39m)\n",
      "File \u001b[0;32m~/.python/current/lib/python3.10/tkinter/__init__.py:2299\u001b[0m, in \u001b[0;36mTk.__init__\u001b[0;34m(self, screenName, baseName, className, useTk, sync, use)\u001b[0m\n\u001b[1;32m   2297\u001b[0m         baseName \u001b[38;5;241m=\u001b[39m baseName \u001b[38;5;241m+\u001b[39m ext\n\u001b[1;32m   2298\u001b[0m interactive \u001b[38;5;241m=\u001b[39m \u001b[38;5;28;01mFalse\u001b[39;00m\n\u001b[0;32m-> 2299\u001b[0m \u001b[38;5;28mself\u001b[39m\u001b[38;5;241m.\u001b[39mtk \u001b[38;5;241m=\u001b[39m \u001b[43m_tkinter\u001b[49m\u001b[38;5;241;43m.\u001b[39;49m\u001b[43mcreate\u001b[49m\u001b[43m(\u001b[49m\u001b[43mscreenName\u001b[49m\u001b[43m,\u001b[49m\u001b[43m \u001b[49m\u001b[43mbaseName\u001b[49m\u001b[43m,\u001b[49m\u001b[43m \u001b[49m\u001b[43mclassName\u001b[49m\u001b[43m,\u001b[49m\u001b[43m \u001b[49m\u001b[43minteractive\u001b[49m\u001b[43m,\u001b[49m\u001b[43m \u001b[49m\u001b[43mwantobjects\u001b[49m\u001b[43m,\u001b[49m\u001b[43m \u001b[49m\u001b[43museTk\u001b[49m\u001b[43m,\u001b[49m\u001b[43m \u001b[49m\u001b[43msync\u001b[49m\u001b[43m,\u001b[49m\u001b[43m \u001b[49m\u001b[43muse\u001b[49m\u001b[43m)\u001b[49m\n\u001b[1;32m   2300\u001b[0m \u001b[38;5;28;01mif\u001b[39;00m useTk:\n\u001b[1;32m   2301\u001b[0m     \u001b[38;5;28mself\u001b[39m\u001b[38;5;241m.\u001b[39m_loadtk()\n",
      "\u001b[0;31mTclError\u001b[0m: no display name and no $DISPLAY environment variable"
     ]
    }
   ],
   "source": [
    "root = tk.Tk()\n",
    "root.title(\"My GUI\")\n",
    "\n",
    "label = tk.Label(root, text=\"Hello World!\")\n",
    "label.pack()\n",
    "\n",
    "button = tk.Button(root, text=\"Click me!\")\n",
    "button.pack()\n",
    "\n",
    "entry = tk.Entry(root)\n",
    "entry.pack()\n",
    "\n",
    "def button_click():\n",
    "    print(\"Button clicked!\")\n",
    "\n",
    "button.config(command=button_click)\n",
    "\n",
    "root.mainloop()"
   ]
  },
  {
   "cell_type": "code",
   "execution_count": null,
   "metadata": {},
   "outputs": [],
   "source": []
  }
 ],
 "metadata": {
  "kernelspec": {
   "display_name": "Python 3",
   "language": "python",
   "name": "python3"
  },
  "language_info": {
   "codemirror_mode": {
    "name": "ipython",
    "version": 3
   },
   "file_extension": ".py",
   "mimetype": "text/x-python",
   "name": "python",
   "nbconvert_exporter": "python",
   "pygments_lexer": "ipython3",
   "version": "3.10.13"
  }
 },
 "nbformat": 4,
 "nbformat_minor": 2
}
